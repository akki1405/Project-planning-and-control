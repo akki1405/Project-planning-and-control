{
  "cells": [
    {
      "cell_type": "code",
      "execution_count": 1,
      "id": "f456cc8a",
      "metadata": {
        "id": "f456cc8a"
      },
      "outputs": [],
      "source": [
        "#*=============================================================================\n",
        "#| Assignment: ASSIGNMENT 1 - Scheduling network modelling (question-2)\n",
        "#|\n",
        "#| Author: Mehulkumar Jariwala (30137326)\n",
        " #         Akshaykumar Dhorajiya (30151346)\n",
        "#| Year: 2022\n",
        "#| Language: Python\n",
        "#| To Compile: open the file in the colab and update the csv file at the data variable in the code. Then press ctrl+R to get the output-2.csv file.\n",
        "#+-----------------------------------------------------------------------------\n",
        "#|\n",
        "#| Description: Calculated es, ef, ls, lf, tf, ff and crirical path  \n",
        "#| Input: Change csv file path at \"data = pd.read_csv(\"Assignment_1.csv\")\" in code.\n",
        "#| Output: 1. Program will give total duration of project\n",
        "#          2. It will give critical path of project\n",
        "#          3. It will generate output-2.csv file which shows es, ef, ls, lf, tf, ff and activities on critical path in tabular form\n",
        "#| Algorithm: Following algorithm is used\n",
        "#             1. Create the class name as node which includes activity, es, ef, ls, lf, tf, ff,previous, next, is_critical\n",
        "#             2. first create a start node and end node, then create a node for each individual creativity.\n",
        "#             3.Attach start and end node with first and last activity respectively.\n",
        "#             4.traverse graph in forward and  backward direction recursively using depth first search technique of \"graph\" & structure to find the values of es, ef, ls ,lf.\n",
        "#             6.check the type of relationship,then for given relation R(A,B)\n",
        "#             7. if A.es +lag >b.es then evaluate value of B.es,B.ef\n",
        "#             8. if b.es -lag<a.ls then evaluate value of a.ls,a.lf\n",
        "#.            9.repeat steps 8 and 9 for the fs,sf,ss,and ff realtion.\n",
        "#.            10. after updating everything, again traverse forward and backward direction recursively using the depth first search technique of graph.\n",
        "#             11. set count =0.\n",
        "#.                check wheather node activity is critical or not.\n",
        "#                 if node is critical then set is critical =\"yes\"\n",
        "#                 increament count by value 1.\n",
        "#.           12. set total critical = count\n",
        "#.           13 get the edges of critical nodes\n",
        "#.           14 print critical path\n",
        "#            15 end\n",
        "#\n",
        "#\n",
        "#                   \n",
        "#             \n",
        "#| Known Bugs: NA\n",
        "#*===========================================================================*/\n",
        "# ----------------------------------      Question 2      ---------------------------------- \n",
        "# importing libraries\n",
        "import pandas as pd"
      ]
    },
    {
      "cell_type": "code",
      "execution_count": 2,
      "id": "a86357b8",
      "metadata": {
        "id": "a86357b8"
      },
      "outputs": [],
      "source": [
        "from __future__ import annotations\n",
        "\n",
        "# create structure for node\n",
        "class Node:\n",
        "    \n",
        "    def __init__(self,activity,duration):\n",
        "        self.activity = activity\n",
        "        self.duration = duration\n",
        "        self.es = None\n",
        "        self.ef = None\n",
        "        self.ls = None\n",
        "        self.lf = None\n",
        "        self.tf = None\n",
        "        self.ff = None\n",
        "        \n",
        "        self.previous = []\n",
        "        self.next = []\n",
        "        \n",
        "        #keep \"NO\" as default value\n",
        "        self.is_critical = \"NO\"\n",
        "    \n",
        "    def __repr__(self):\n",
        "        return \"{\" \\\n",
        "            f\"\\\"Activity\\\":\\\"{self.activity}\\\", \" \\\n",
        "            f\"\\\"Duration\\\":\\\"{self.duration}\\\", \" \\\n",
        "            f\"\\\"ES\\\":\\\"{self.es}\\\", \" \\\n",
        "            f\"\\\"EF\\\":\\\"{self.ef}\\\", \" \\\n",
        "            f\"\\\"LS\\\":\\\"{self.ls}\\\", \" \\\n",
        "            f\"\\\"LF\\\":\\\"{self.lf}\\\", \" \\\n",
        "            f\"\\\"TF\\\":\\\"{self.tf}\\\", \" \\\n",
        "            f\"\\\"FF\\\":\\\"{self.ff}\\\", \" \\\n",
        "            f\"\\\"previous\\\":\\\"{list(map(lambda node: node.activity, self.previous))}\\\",\"\\\n",
        "            f\"\\\"next\\\":\\\"{list(map(lambda node: node.activity, self.next))}\\\",\"\\\n",
        "            f\"\\\"Critical Path\\\":\\\"{self.is_critical}\\\"\" \\\n",
        "            \"}\\n\""
      ]
    },
    {
      "cell_type": "code",
      "execution_count": 3,
      "id": "7b9160bd",
      "metadata": {
        "id": "7b9160bd"
      },
      "outputs": [],
      "source": [
        "# function to generate nodes.\n",
        "def create_nodes(data):\n",
        "\n",
        "    # create nodes structure and initialize \"start\"&\"end\" nodes as 0\n",
        "    nodes = dict()\n",
        "    nodes['Start'] = Node(activity=\"Start\",duration=0)\n",
        "    nodes['End'] = Node(activity=\"End\",duration=0)\n",
        "    \n",
        "\n",
        "    for a in data['Activity']:\n",
        "        if a not in nodes:\n",
        "            activity = a\n",
        "            duration = data[data[\"Activity\"]==a][\"Duration\"]\n",
        "            d=duration.values[0] #in order to get exact value of duration\n",
        "            node = Node(activity=activity,duration=d)\n",
        "            nodes[activity]=node \n",
        "            \n",
        "    # iterate to keeep track of prev. & next node\n",
        "    for i,row in data.iterrows():\n",
        "        current = row['Activity']\n",
        "        dependents = row['Predecessor'].split(\",\")\n",
        "        for d in dependents:\n",
        "            if d.isalpha():\n",
        "                nodes[current].previous.append(nodes[d])\n",
        "                nodes[d].next.append(nodes[current])\n",
        "\n",
        "    # connect \"start\" and \"end\" nodes\n",
        "    for node in filter(lambda node:node.activity not in ['Start','End'],nodes.values()):\n",
        "        if not node.next:\n",
        "            node.next.append(nodes['End'])\n",
        "            nodes['End'].previous.append(node)\n",
        "    \n",
        "        if not node.previous:\n",
        "            node.previous.append(nodes['Start'])\n",
        "            nodes['Start'].next.append(node)\n",
        "\n",
        "    return nodes"
      ]
    },
    {
      "cell_type": "markdown",
      "id": "405f480c",
      "metadata": {
        "id": "405f480c"
      },
      "source": [
        "**Forward Traversing**"
      ]
    },
    {
      "cell_type": "code",
      "execution_count": 4,
      "id": "173663ec",
      "metadata": {
        "id": "173663ec"
      },
      "outputs": [],
      "source": [
        "# function for forward traversing\n",
        "def forward_traverse(end):\n",
        "    max_es = 0\n",
        "    node = end\n",
        "    \n",
        "    #if predecessor's EF is not defined, go back recursively to find\n",
        "    #predecessor's EF\n",
        "    for p in node.previous:\n",
        "        if p.ef==None:\n",
        "            forward_traverse(end=p)\n",
        "        max_es = max(max_es, p.ef)\n",
        "    \n",
        "    #ES is the max. value of predecessors EF value\n",
        "    node.es = max_es\n",
        "    node.ef = node.es + node.duration"
      ]
    },
    {
      "cell_type": "markdown",
      "id": "f2d0ad27",
      "metadata": {
        "id": "f2d0ad27"
      },
      "source": [
        "**Backward Traversing**"
      ]
    },
    {
      "cell_type": "code",
      "execution_count": 5,
      "id": "33d32d49",
      "metadata": {
        "id": "33d32d49"
      },
      "outputs": [],
      "source": [
        "# Defining function for backward traversing\n",
        "def backward_traverse(end):\n",
        "    min_lf = 7777777777777777777\n",
        "    min_ff = 7777777777777777777\n",
        "    \n",
        "    node = end\n",
        "    \n",
        "    #if successor's LS is not defined, go further recursively to find\n",
        "    #successor's LS\n",
        "    for s in node.next:\n",
        "        if s.ls == None:\n",
        "            backward_traverse(end=s)\n",
        "        \n",
        "        min_lf = min(min_lf,s.ls)\n",
        "        min_ff = min(min_lf,s.es - node.ef)\n",
        "        \n",
        "    #LF is the min. value of successor's LS value.\n",
        "    node.lf = min_lf\n",
        "    node.ls = node.lf - node.duration\n",
        "    \n",
        "    #if node is critical, then set is_critical=true\n",
        "    if node.es - node.ls == 0:\n",
        "        node.is_critical = \"YES\"\n",
        "        node.tf = 0\n",
        "    \n",
        "    node.tf = node.ls - node.es\n",
        "    node.ff = min_ff"
      ]
    },
    {
      "cell_type": "markdown",
      "id": "ad5a65c5",
      "metadata": {
        "id": "ad5a65c5"
      },
      "source": [
        "**Graph edges, only for critical nodes**\n",
        "\n",
        "creating (source,destination) pair for critical nodes, by traversing all the nodes"
      ]
    },
    {
      "cell_type": "code",
      "execution_count": 6,
      "id": "e818194d",
      "metadata": {
        "id": "e818194d"
      },
      "outputs": [],
      "source": [
        "import json\n",
        "\n",
        "# defining function to get edges of critical nodes\n",
        "def obtain_edges(nodes):\n",
        "    edges = [] #create empty list for storing edges\n",
        "    \n",
        "    for node in nodes.values():\n",
        "        src_dict = json.loads(repr(node))\n",
        "        \n",
        "        #check if current node is critical, if not then continue to \n",
        "        #explore further nodes, and look for the node which is critical\n",
        "        if src_dict['Critical Path']==\"NO\":\n",
        "            continue\n",
        "        \n",
        "        src = src_dict['Activity']\n",
        "        \n",
        "        #loop through successors(i.e creating the list of successors)\n",
        "        successors = src_dict['next'].lstrip(\"[\").rstrip(\"]\").split(\", \")\n",
        "\n",
        "        #check whether the list of successors is empty or not.\n",
        "        if successors != ['']:\n",
        "            for s in successors:\n",
        "                s = s.lstrip(\"'\").rstrip(\"'\")\n",
        "                dest = json.loads(repr(nodes[s]))\n",
        "                \n",
        "                #check whether destination is critical or not, if it is \n",
        "                #critical then add it into \"edges\" list\n",
        "                if dest[\"Critical Path\"]==\"YES\":\n",
        "                    edges.append((src,dest[\"Activity\"]))\n",
        "                    \n",
        "    return edges"
      ]
    },
    {
      "cell_type": "markdown",
      "id": "48219f37",
      "metadata": {
        "id": "48219f37"
      },
      "source": [
        "**Find All Corresponding Path**"
      ]
    },
    {
      "cell_type": "code",
      "execution_count": 7,
      "id": "f241761c",
      "metadata": {
        "id": "f241761c"
      },
      "outputs": [],
      "source": [
        "#defining function to find the paths\n",
        "def get_path(graph,start,end,path):\n",
        "    path = path + [start]\n",
        "    \n",
        "    if start == end:\n",
        "        return [path]\n",
        "    \n",
        "    if start not in graph:\n",
        "        return []\n",
        "    \n",
        "    paths = []\n",
        "    \n",
        "    for node in graph[start]:\n",
        "        # continue, if node is not discovered\n",
        "        if node not in path:\n",
        "            newpaths = get_path(graph, node, end, path)\n",
        "            for newpath in newpaths:\n",
        "                paths.append(newpath)\n",
        "    return paths"
      ]
    },
    {
      "cell_type": "markdown",
      "id": "1930cde7",
      "metadata": {
        "id": "1930cde7"
      },
      "source": [
        "**Read Data**"
      ]
    },
    {
      "cell_type": "code",
      "execution_count": 8,
      "id": "51e743d7",
      "metadata": {
        "id": "51e743d7"
      },
      "outputs": [],
      "source": [
        "data = pd.read_csv(\"Assignment_1.csv\")\n",
        "# data"
      ]
    },
    {
      "cell_type": "code",
      "execution_count": 9,
      "id": "fc878f06",
      "metadata": {
        "id": "fc878f06"
      },
      "outputs": [],
      "source": [
        "#create nodes\n",
        "nodes = create_nodes(data)"
      ]
    },
    {
      "cell_type": "code",
      "execution_count": 10,
      "id": "02ef1e18",
      "metadata": {
        "id": "02ef1e18"
      },
      "outputs": [],
      "source": [
        "#Assign \"start\" and \"end\" nodes to variable called 'start' and 'end'\n",
        "start = nodes[\"Start\"]\n",
        "end = nodes[\"End\"]"
      ]
    },
    {
      "cell_type": "code",
      "execution_count": 11,
      "id": "d8547a9b",
      "metadata": {
        "id": "d8547a9b"
      },
      "outputs": [],
      "source": [
        "#Populate earliest start and finish by recursively call forward function\n",
        "#from the end node forward_traverse(end=end)\n",
        "forward_traverse(end=end)\n",
        "\n",
        "# update end's LS and LF\n",
        "end.ls = end.lf = end.es"
      ]
    },
    {
      "cell_type": "code",
      "execution_count": 12,
      "id": "6086aa57",
      "metadata": {
        "id": "6086aa57"
      },
      "outputs": [],
      "source": [
        "#Populate late start and finish by recursively calling backward function\n",
        "#from the start node backward_traverse(end=start)\n",
        "backward_traverse(end=start)"
      ]
    },
    {
      "cell_type": "markdown",
      "id": "e7e78534",
      "metadata": {
        "id": "e7e78534"
      },
      "source": [
        "**Check the relationship**"
      ]
    },
    {
      "cell_type": "code",
      "execution_count": 13,
      "id": "ee478ae7",
      "metadata": {
        "id": "ee478ae7"
      },
      "outputs": [],
      "source": [
        "relations_df = data[data[['Relationships','Lag']]['Relationships'].notna()]\n",
        "\n",
        "\n",
        "relations = list(relations_df['Relationships'])\n",
        "\n",
        "lags = list(relations_df['Lag'])\n",
        "\n",
        "for relation in relations:\n",
        "    relation_type = relation[0:2]\n",
        "    \n",
        "    \n",
        "    #extract relation nodes involved in given relation\n",
        "    r_nodes = relation[2:].lstrip(\"(\").rstrip(\")\")\n",
        "    r_nodes = r_nodes.split(\",\") #create list of involved nodes\n",
        "\n",
        "    \n",
        "    node_a = nodes[r_nodes[0]]\n",
        "    node_b = nodes[r_nodes[-1]]\n",
        "    \n",
        "    lag = int(relations_df[relations_df['Relationships']==relation]['Lag'])\n",
        "      \n",
        "    # If relation is SS:\n",
        "    if relation_type == \"SS\":\n",
        "        if node_a.es + lag > node_b.es:\n",
        "            node_b.es = node_a.es + lag\n",
        "            node_b.ef = node_b.es + node_b.duration\n",
        "        if node_b.ls - lag < node_a.ls:\n",
        "            node_a.ls = node_b.ls - lag\n",
        "            node_a.lf = node_a.ls + node_a.duration\n",
        "            \n",
        "    # If relation is SF\n",
        "    elif (relation_type == \"SF\"):\n",
        "        if (node_a.es + lag > node_b.ef):\n",
        "            node_b.ef = node_a.es + lag\n",
        "            node_b.es = node_b.ef - node_b.duration\n",
        "        if (node_b.lf - lag < node_a.ls):\n",
        "            node_a.ls = node_b.lf - lag\n",
        "            node_a.lf = node_a.ls + node_a.duration\n",
        "            \n",
        "    # If relation is FS\n",
        "    elif (relation_type == \"FS\"):\n",
        "        if (node_a.ef + lag > node_b.es):\n",
        "            node_b.es = node_a.ef + lag\n",
        "            node_b.ef = node_b.es + node_b.duration\n",
        "        if (node_b.ls - lag < node_a.lf):\n",
        "            node_a.lf = node_b.ls - lag\n",
        "            node_a.ls = node_a.lf - node_a.duration\n",
        "            \n",
        "    # If relation is FF\n",
        "    elif (relation_type == \"FF\"):\n",
        "        if (node_a.ef + lag > node_b.ef):\n",
        "            node_b.ef = node_a.ef + lag\n",
        "            node_b.es = node_b.ef - node_b.duration\n",
        "        if (node_b.lf - lag < node_a.lf):\n",
        "            node_a.lf = node_b.lf - lag\n",
        "            node_a.ls = node_a.lf - node_a.duration"
      ]
    },
    {
      "cell_type": "code",
      "execution_count": 14,
      "id": "9f7e58bf",
      "metadata": {
        "id": "9f7e58bf"
      },
      "outputs": [],
      "source": [
        "# After updating everything, we will traverse again\n",
        "start = nodes[\"Start\"]\n",
        "end = nodes[\"End\"]\n",
        "forward_traverse(end=end)\n",
        "end.ls = end.lf = end.es\n",
        "backward_traverse(end=start)"
      ]
    },
    {
      "cell_type": "markdown",
      "id": "4fc8e762",
      "metadata": {
        "id": "4fc8e762"
      },
      "source": [
        "Check For critical nodes"
      ]
    },
    {
      "cell_type": "code",
      "execution_count": 15,
      "id": "62372435",
      "metadata": {
        "id": "62372435"
      },
      "outputs": [],
      "source": [
        "count = 0\n",
        "\n",
        "#if node is critical, then set is_critical = \"Yes\"\n",
        "for node in nodes.values():\n",
        "    if node.es - node.ls==0:\n",
        "        node.is_critical = \"YES\"\n",
        "        node.tf = 0\n",
        "        count = count + 1\n",
        "    else:\n",
        "        node.tf = node.ls - node.es\n",
        "\n",
        "total_critical = count #assign count to variable called \"total_critical\""
      ]
    },
    {
      "cell_type": "code",
      "execution_count": 16,
      "id": "f8aec4ff",
      "metadata": {
        "id": "f8aec4ff"
      },
      "outputs": [],
      "source": [
        "# getting graph edges, only for critical nodes\n",
        "edges = obtain_edges(nodes)"
      ]
    },
    {
      "cell_type": "markdown",
      "id": "0540d883",
      "metadata": {
        "id": "0540d883"
      },
      "source": [
        "**create graph**"
      ]
    },
    {
      "cell_type": "code",
      "execution_count": 17,
      "id": "da7d4439",
      "metadata": {
        "id": "da7d4439"
      },
      "outputs": [],
      "source": [
        "adjacency = dict()\n",
        "\n",
        "for (s,d) in edges:\n",
        "    if s not in adjacency:\n",
        "        adjacency[s] = {d:1}\n",
        "    else:\n",
        "        adjacency[s][d] = 1\n",
        "            \n",
        "#add \"End\" node\n",
        "adjacency[\"End\"] = {}\n",
        "\n",
        "graph = adjacency"
      ]
    },
    {
      "cell_type": "markdown",
      "id": "d897c337",
      "metadata": {
        "id": "d897c337"
      },
      "source": [
        "Find All Corresponding Path"
      ]
    },
    {
      "cell_type": "code",
      "execution_count": 19,
      "id": "d2ce13c3",
      "metadata": {
        "colab": {
          "base_uri": "https://localhost:8080/"
        },
        "id": "d2ce13c3",
        "outputId": "f038447a-3d63-4b36-8305-ef48e4afb1ac"
      },
      "outputs": [
        {
          "output_type": "stream",
          "name": "stdout",
          "text": [
            "\n",
            "Critical Path:\n",
            "-------------------------------\n",
            " Start -> C -> L -> P -> N -> End\n",
            " Start -> C -> L -> P -> Q -> S -> End \n",
            "-------------------------------\n",
            "\n",
            "total duration of project 32\n"
          ]
        }
      ],
      "source": [
        "path = []\n",
        "paths = get_path(graph,\"Start\",\"End\",path)\n",
        "\n",
        "#creating path string\n",
        "path_str = \"\\n \".join(map(lambda path: \" -> \".join(path), paths))\n",
        "ans2_critical_path = path_str\n",
        "\n",
        "# Critical Paths\n",
        "print(\"\\nCritical Path:\\n-------------------------------\\n\", path_str,end=\" \")\n",
        "print(\"\\n-------------------------------\\n\")\n",
        "print(\"total duration of project \"+str(end.ls))"
      ]
    },
    {
      "cell_type": "markdown",
      "id": "a4010941",
      "metadata": {
        "id": "a4010941"
      },
      "source": [
        "**creating resultant dataframe**"
      ]
    },
    {
      "cell_type": "code",
      "execution_count": null,
      "id": "a3fa79ec",
      "metadata": {
        "id": "a3fa79ec"
      },
      "outputs": [],
      "source": [
        "dataframe = []\n",
        "\n",
        "for node in nodes.values():\n",
        "    node_str = repr(node)\n",
        "    node_dict = json.loads(node_str)\n",
        "    dataframe.append(node_dict)\n",
        "\n",
        "dataframe = pd.DataFrame(dataframe)"
      ]
    },
    {
      "cell_type": "code",
      "execution_count": null,
      "id": "0b679567",
      "metadata": {
        "id": "0b679567"
      },
      "outputs": [],
      "source": [
        "# printing resultant dataframe\n",
        "ans2 = dataframe\n",
        "dataframe.to_csv(\"ans-2.csv\")"
      ]
    },
    {
      "cell_type": "code",
      "execution_count": null,
      "id": "20c16e61",
      "metadata": {
        "id": "20c16e61"
      },
      "outputs": [],
      "source": []
    }
  ],
  "metadata": {
    "kernelspec": {
      "display_name": "Python 3",
      "language": "python",
      "name": "python3"
    },
    "language_info": {
      "codemirror_mode": {
        "name": "ipython",
        "version": 3
      },
      "file_extension": ".py",
      "mimetype": "text/x-python",
      "name": "python",
      "nbconvert_exporter": "python",
      "pygments_lexer": "ipython3",
      "version": "3.8.8"
    },
    "colab": {
      "provenance": [],
      "collapsed_sections": []
    }
  },
  "nbformat": 4,
  "nbformat_minor": 5
}